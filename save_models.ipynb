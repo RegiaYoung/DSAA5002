{
 "cells": [
  {
   "cell_type": "code",
   "execution_count": null,
   "metadata": {},
   "outputs": [],
   "source": [
    "# from huggingface_hub import hf_hub_download\n",
    "# hf_hub_download(repo_id=\"microsoft/phi-2\", filename=\"configuration_phi.py\")\n",
    "# hf_hub_download(repo_id=\"microsoft/phi-2\", filename=\"modeling_phi.py\")\n",
    "!pip install modelscope\n",
    "!modelscope download --model Qwen/Qwen2.5-3B-Instruct --local_dir ./models/Qwen2.5-3B-Instruct\n",
    "!modelscope download --model LLM-Research/Phi-3.5-mini-instruct --local_dir ./models/Phi-3.5-mini-instruct"
   ]
  },
  {
   "cell_type": "code",
   "execution_count": 1,
   "metadata": {},
   "outputs": [
    {
     "name": "stdout",
     "output_type": "stream",
     "text": [
      "Collecting einops\n",
      "  Using cached einops-0.8.0-py3-none-any.whl.metadata (12 kB)\n",
      "Using cached einops-0.8.0-py3-none-any.whl (43 kB)\n",
      "Saved ./einops-0.8.0-py3-none-any.whl\n",
      "Successfully downloaded einops\n",
      "Requirement already satisfied: einops in /home/scc/miniconda3/envs/jjver/lib/python3.10/site-packages (0.8.0)\n"
     ]
    }
   ],
   "source": [
    "%reset -f\n",
    "!pip download einops\n",
    "!pip install einops"
   ]
  }
 ],
 "metadata": {
  "kernelspec": {
   "display_name": "jjver",
   "language": "python",
   "name": "python3"
  },
  "language_info": {
   "codemirror_mode": {
    "name": "ipython",
    "version": 3
   },
   "file_extension": ".py",
   "mimetype": "text/x-python",
   "name": "python",
   "nbconvert_exporter": "python",
   "pygments_lexer": "ipython3",
   "version": "3.10.14"
  }
 },
 "nbformat": 4,
 "nbformat_minor": 2
}
